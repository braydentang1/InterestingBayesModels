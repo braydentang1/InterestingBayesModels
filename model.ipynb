{
 "cells": [
  {
   "cell_type": "code",
   "execution_count": 1,
   "id": "7b451b9b-ec41-45b9-a41b-0c01842c3c5f",
   "metadata": {},
   "outputs": [
    {
     "name": "stderr",
     "output_type": "stream",
     "text": [
      "/home/braydentang/anaconda3/envs/cltv-proj/lib/python3.12/site-packages/tqdm/auto.py:21: TqdmWarning: IProgress not found. Please update jupyter and ipywidgets. See https://ipywidgets.readthedocs.io/en/stable/user_install.html\n",
      "  from .autonotebook import tqdm as notebook_tqdm\n"
     ]
    }
   ],
   "source": [
    "import lifetimes as lt\n",
    "import cmdstanpy as cmd\n",
    "import pandas as pd"
   ]
  },
  {
   "cell_type": "code",
   "execution_count": 2,
   "id": "1fbaea51-3ece-4174-9baa-cce0eed149cb",
   "metadata": {},
   "outputs": [],
   "source": [
    "raw_data = pd.read_table(\n",
    "    \"data/CDNOW_sample.txt\",\n",
    "    delim_whitespace=True,\n",
    "    header=None, \n",
    ")"
   ]
  },
  {
   "cell_type": "code",
   "execution_count": 3,
   "id": "ff8da684-babd-4e4a-9ee0-4f8d1dc74a59",
   "metadata": {},
   "outputs": [],
   "source": [
    "raw_data.columns = [\"customer_id\", \"customer_index\", \"date\", \"quantity\", \"amount\"]\n",
    "new_data = raw_data.assign(\n",
    "    new_date=lambda x: x[\"date\"].astype(\"str\"),\n",
    "    date=lambda x: [f\"{row[:4]}-{row[5:7]}-{row[7:]}\" for row in x[\"new_date\"]]\n",
    ").drop(columns=\"new_date\")"
   ]
  },
  {
   "cell_type": "code",
   "execution_count": null,
   "id": "3eda265b-5422-48da-a83d-75f23345422d",
   "metadata": {},
   "outputs": [],
   "source": []
  }
 ],
 "metadata": {
  "kernelspec": {
   "display_name": "Python 3 (ipykernel)",
   "language": "python",
   "name": "python3"
  },
  "language_info": {
   "codemirror_mode": {
    "name": "ipython",
    "version": 3
   },
   "file_extension": ".py",
   "mimetype": "text/x-python",
   "name": "python",
   "nbconvert_exporter": "python",
   "pygments_lexer": "ipython3",
   "version": "3.12.0"
  }
 },
 "nbformat": 4,
 "nbformat_minor": 5
}
